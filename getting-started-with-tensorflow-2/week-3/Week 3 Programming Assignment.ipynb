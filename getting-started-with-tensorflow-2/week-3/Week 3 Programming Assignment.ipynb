{
 "cells": [
  {
   "cell_type": "markdown",
   "metadata": {
    "id": "Crtnb3v_-QN8"
   },
   "source": [
    "# Programming Assignment"
   ]
  },
  {
   "cell_type": "markdown",
   "metadata": {
    "id": "H5lhOgL2-QN9"
   },
   "source": [
    "## Model validation on the Iris dataset"
   ]
  },
  {
   "cell_type": "markdown",
   "metadata": {
    "id": "3mu5pYMU-QN-"
   },
   "source": [
    "### Instructions\n",
    "\n",
    "In this notebook, you will build, compile and fit a neural network model to the Iris dataset. You will also implement validation, regularisation and callbacks to improve your model.\n",
    "\n",
    "Some code cells are provided you in the notebook. You should avoid editing provided code, and make sure to execute the cells in order to avoid unexpected errors. Some cells begin with the line: \n",
    "\n",
    "`#### GRADED CELL ####`\n",
    "\n",
    "Don't move or edit this first line - this is what the automatic grader looks for to recognise graded cells. These cells require you to write your own code to complete them, and are automatically graded when you submit the notebook. Don't edit the function name or signature provided in these cells, otherwise the automatic grader might not function properly. Inside these graded cells, you can use any functions or classes that are imported below, but make sure you don't use any variables that are outside the scope of the function.\n",
    "\n",
    "### How to submit\n",
    "\n",
    "Complete all the tasks you are asked for in the worksheet. When you have finished and are happy with your code, press the **Submit Assignment** button at the top of this notebook.\n",
    "\n",
    "### Let's get started!\n",
    "\n",
    "We'll start running some imports, and loading the dataset. Do not edit the existing imports in the following cell. If you would like to make further Tensorflow imports, you should add them here."
   ]
  },
  {
   "cell_type": "code",
   "execution_count": 1,
   "metadata": {
    "executionInfo": {
     "elapsed": 3089,
     "status": "ok",
     "timestamp": 1601222251850,
     "user": {
      "displayName": "Halil Uysal",
      "photoUrl": "",
      "userId": "03813492140216734474"
     },
     "user_tz": 240
    },
    "id": "TcJ88o-A-QOA"
   },
   "outputs": [],
   "source": [
    "#### PACKAGE IMPORTS ####\n",
    "\n",
    "# Run this cell first to import all required packages. Do not make any imports elsewhere in the notebook\n",
    "from numpy.random import seed\n",
    "seed(8)\n",
    "import tensorflow as tf\n",
    "import numpy as np\n",
    "import matplotlib.pyplot as plt\n",
    "from sklearn import datasets, model_selection \n",
    "%matplotlib inline\n",
    "\n",
    "# If you would like to make further imports from tensorflow, add them here\n",
    "\n"
   ]
  },
  {
   "cell_type": "markdown",
   "metadata": {
    "id": "FVxBqpU_-QOF"
   },
   "source": [
    "#### The Iris dataset\n",
    "\n",
    "In this assignment, you will use the [Iris dataset](https://scikit-learn.org/stable/auto_examples/datasets/plot_iris_dataset.html). It consists of 50 samples from each of three species of Iris (Iris setosa, Iris virginica and Iris versicolor). Four features were measured from each sample: the length and the width of the sepals and petals, in centimeters. For a reference, see the following papers:\n",
    "\n",
    "- R. A. Fisher. \"The use of multiple measurements in taxonomic problems\". Annals of Eugenics. 7 (2): 179–188, 1936.\n",
    "\n",
    "Your goal is to construct a neural network that classifies each sample into the correct class, as well as applying validation and regularisation techniques."
   ]
  },
  {
   "cell_type": "markdown",
   "metadata": {
    "id": "BcDc7CXG-QOG"
   },
   "source": [
    "#### Load and preprocess the data\n",
    "\n",
    "First read in the Iris dataset using `datasets.load_iris()`, and split the dataset into training and test sets."
   ]
  },
  {
   "cell_type": "code",
   "execution_count": 2,
   "metadata": {
    "executionInfo": {
     "elapsed": 3087,
     "status": "ok",
     "timestamp": 1601222251851,
     "user": {
      "displayName": "Halil Uysal",
      "photoUrl": "",
      "userId": "03813492140216734474"
     },
     "user_tz": 240
    },
    "id": "2QCdzIiC-QOH"
   },
   "outputs": [],
   "source": [
    "#### GRADED CELL ####\n",
    "\n",
    "# Complete the following function. \n",
    "# Make sure to not change the function name or arguments.\n",
    "\n",
    "def read_in_and_split_data(iris_data):\n",
    "    \"\"\"\n",
    "    This function takes the Iris dataset as loaded by sklearn.datasets.load_iris(), and then \n",
    "    splits so that the training set includes 90% of the full dataset, with the test set \n",
    "    making up the remaining 10%.\n",
    "    Your function should return a tuple (train_data, test_data, train_targets, test_targets) \n",
    "    of appropriately split training and test data and targets.\n",
    "    \n",
    "    If you would like to import any further packages to aid you in this task, please do so in the \n",
    "    Package Imports cell above.\n",
    "    \"\"\"\n",
    "    iris_dataset = iris_data.data\n",
    "    iris_targets = iris_data.target\n",
    "\n",
    "    train_data, test_data, train_targets, test_targets = model_selection.train_test_split(iris_dataset, iris_targets, test_size=0.2)\n",
    "    return (train_data, test_data, train_targets, test_targets)\n",
    "    "
   ]
  },
  {
   "cell_type": "code",
   "execution_count": 3,
   "metadata": {
    "executionInfo": {
     "elapsed": 3086,
     "status": "ok",
     "timestamp": 1601222251852,
     "user": {
      "displayName": "Halil Uysal",
      "photoUrl": "",
      "userId": "03813492140216734474"
     },
     "user_tz": 240
    },
    "id": "TVTDnj1W-QOJ"
   },
   "outputs": [],
   "source": [
    "# Run your function to generate the test and training data.\n",
    "\n",
    "iris_data = datasets.load_iris()\n",
    "train_data, test_data, train_targets, test_targets = read_in_and_split_data(iris_data)"
   ]
  },
  {
   "cell_type": "markdown",
   "metadata": {
    "id": "7i_TGqos-QON"
   },
   "source": [
    "We will now convert the training and test targets using a one hot encoder."
   ]
  },
  {
   "cell_type": "code",
   "execution_count": 4,
   "metadata": {
    "executionInfo": {
     "elapsed": 3084,
     "status": "ok",
     "timestamp": 1601222251852,
     "user": {
      "displayName": "Halil Uysal",
      "photoUrl": "",
      "userId": "03813492140216734474"
     },
     "user_tz": 240
    },
    "id": "uolvGsLl-QOO"
   },
   "outputs": [],
   "source": [
    "# Convert targets to a one-hot encoding\n",
    "\n",
    "train_targets = tf.keras.utils.to_categorical(np.array(train_targets))\n",
    "test_targets = tf.keras.utils.to_categorical(np.array(test_targets))"
   ]
  },
  {
   "cell_type": "markdown",
   "metadata": {
    "id": "V6i8xjbh-QOR"
   },
   "source": [
    "#### Build the neural network model\n"
   ]
  },
  {
   "cell_type": "markdown",
   "metadata": {
    "id": "oDQeTk4u-QOT"
   },
   "source": [
    "You can now construct a model to fit to the data. Using the Sequential API, build your model according to the following specifications:\n",
    "\n",
    "* The model should use the `input_shape` in the function argument to set the input size in the first layer.\n",
    "* The first layer should be a dense layer with 64 units.\n",
    "* The weights of the first layer should be initialised with the He uniform initializer.\n",
    "* The biases of the first layer should be all initially equal to one.\n",
    "* There should then be a further four dense layers, each with 128 units.\n",
    "* This should be followed with four dense layers, each with 64 units.\n",
    "* All of these Dense layers should use the ReLU activation function.\n",
    "* The output Dense layer should have 3 units and the softmax activation function.\n",
    "\n",
    "In total, the network should have 10 layers."
   ]
  },
  {
   "cell_type": "code",
   "execution_count": 5,
   "metadata": {
    "executionInfo": {
     "elapsed": 3083,
     "status": "ok",
     "timestamp": 1601222251853,
     "user": {
      "displayName": "Halil Uysal",
      "photoUrl": "",
      "userId": "03813492140216734474"
     },
     "user_tz": 240
    },
    "id": "vOCmCe2l-QOU"
   },
   "outputs": [],
   "source": [
    "#### GRADED CELL ####\n",
    "\n",
    "# Complete the following function. \n",
    "# Make sure to not change the function name or arguments.\n",
    "\n",
    "def get_model(input_shape):\n",
    "    \"\"\"\n",
    "    This function should build a Sequential model according to the above specification. Ensure the \n",
    "    weights are initialised by providing the input_shape argument in the first layer, given by the\n",
    "    function argument.\n",
    "    Your function should return the model.\n",
    "    \"\"\"\n",
    "    model = tf.keras.models.Sequential([\n",
    "                                        tf.keras.layers.Dense(units=64, input_shape=input_shape, kernel_initializer=tf.keras.initializers.HeUniform(), bias_initializer=tf.keras.initializers.Ones(), activation='relu'),\n",
    "                                        tf.keras.layers.Dense(units=128, activation='relu'),\n",
    "                                        tf.keras.layers.Dense(units=128, activation='relu'),\n",
    "                                        tf.keras.layers.Dense(units=128, activation='relu'),\n",
    "                                        tf.keras.layers.Dense(units=128, activation='relu'),\n",
    "                                        tf.keras.layers.Dense(units=64, activation='relu'),\n",
    "                                        tf.keras.layers.Dense(units=64, activation='relu'),\n",
    "                                        tf.keras.layers.Dense(units=64, activation='relu'),\n",
    "                                        tf.keras.layers.Dense(units=64, activation='relu'),\n",
    "                                        tf.keras.layers.Dense(units=3, activation='softmax')\n",
    "    ])\n",
    "    return model\n",
    "    "
   ]
  },
  {
   "cell_type": "code",
   "execution_count": 6,
   "metadata": {
    "executionInfo": {
     "elapsed": 3334,
     "status": "ok",
     "timestamp": 1601222252105,
     "user": {
      "displayName": "Halil Uysal",
      "photoUrl": "",
      "userId": "03813492140216734474"
     },
     "user_tz": 240
    },
    "id": "bEnEugVV-QOX"
   },
   "outputs": [],
   "source": [
    "# Run your function to get the model\n",
    "\n",
    "model = get_model(train_data[0].shape)"
   ]
  },
  {
   "cell_type": "markdown",
   "metadata": {
    "id": "BC0h-ud1-QOa"
   },
   "source": [
    "#### Compile the model\n",
    "\n",
    "You should now compile the model using the `compile` method. Remember that you need to specify an optimizer, a loss function and a metric to judge the performance of your model."
   ]
  },
  {
   "cell_type": "code",
   "execution_count": 7,
   "metadata": {
    "executionInfo": {
     "elapsed": 2481,
     "status": "ok",
     "timestamp": 1601222252105,
     "user": {
      "displayName": "Halil Uysal",
      "photoUrl": "",
      "userId": "03813492140216734474"
     },
     "user_tz": 240
    },
    "id": "ReHF4llc-QOa"
   },
   "outputs": [],
   "source": [
    "#### GRADED CELL ####\n",
    "\n",
    "# Complete the following function. \n",
    "# Make sure to not change the function name or arguments.\n",
    "\n",
    "def compile_model(model):\n",
    "    \"\"\"\n",
    "    This function takes in the model returned from your get_model function, and compiles it with an optimiser,\n",
    "    loss function and metric.\n",
    "    Compile the model using the Adam optimiser (with learning rate set to 0.0001), \n",
    "    the categorical crossentropy loss function and accuracy as the only metric. \n",
    "    Your function doesn't need to return anything; the model will be compiled in-place.\n",
    "    \"\"\"\n",
    "    opt = tf.keras.optimizers.Adam(learning_rate=0.0001)\n",
    "\n",
    "    model.compile(optimizer=opt, loss='categorical_crossentropy', metrics=['accuracy'])\n",
    "    "
   ]
  },
  {
   "cell_type": "code",
   "execution_count": 8,
   "metadata": {
    "executionInfo": {
     "elapsed": 1936,
     "status": "ok",
     "timestamp": 1601222252105,
     "user": {
      "displayName": "Halil Uysal",
      "photoUrl": "",
      "userId": "03813492140216734474"
     },
     "user_tz": 240
    },
    "id": "7qJOJunW-QOd"
   },
   "outputs": [],
   "source": [
    "# Run your function to compile the model\n",
    "\n",
    "compile_model(model)"
   ]
  },
  {
   "cell_type": "markdown",
   "metadata": {
    "id": "OWxL16Hk-QOh"
   },
   "source": [
    "#### Fit the model to the training data\n",
    "\n",
    "Now you should train the model on the Iris dataset, using the model's `fit` method. \n",
    "* Run the training for a fixed number of epochs, given by the function's `epochs` argument.\n",
    "* Return the training history to be used for plotting the learning curves.\n",
    "* Set the batch size to 40.\n",
    "* Set the validation set to be 15% of the training set.\n"
   ]
  },
  {
   "cell_type": "code",
   "execution_count": 9,
   "metadata": {
    "executionInfo": {
     "elapsed": 940,
     "status": "ok",
     "timestamp": 1601222252106,
     "user": {
      "displayName": "Halil Uysal",
      "photoUrl": "",
      "userId": "03813492140216734474"
     },
     "user_tz": 240
    },
    "id": "MYTwJVXq-QOi"
   },
   "outputs": [],
   "source": [
    "#### GRADED CELL ####\n",
    "\n",
    "# Complete the following function. \n",
    "# Make sure to not change the function name or arguments.\n",
    "\n",
    "def train_model(model, train_data, train_targets, epochs):\n",
    "    \"\"\"\n",
    "    This function should train the model for the given number of epochs on the \n",
    "    train_data and train_targets. \n",
    "    Your function should return the training history, as returned by model.fit.\n",
    "    \"\"\"\n",
    "    history = model.fit(x=train_data, y=train_targets, batch_size=40, epochs=100, validation_split=0.15)\n",
    "    return history"
   ]
  },
  {
   "cell_type": "code",
   "execution_count": 10,
   "metadata": {
    "colab": {
     "base_uri": "https://localhost:8080/",
     "height": 1000
    },
    "executionInfo": {
     "elapsed": 4385,
     "status": "ok",
     "timestamp": 1601222256039,
     "user": {
      "displayName": "Halil Uysal",
      "photoUrl": "",
      "userId": "03813492140216734474"
     },
     "user_tz": 240
    },
    "id": "MOE4iz_w-QOl",
    "outputId": "c73f3446-faf2-46d2-be83-a3b739534806"
   },
   "outputs": [
    {
     "name": "stdout",
     "output_type": "stream",
     "text": [
      "Epoch 1/100\n",
      "3/3 [==============================] - 0s 64ms/step - loss: 1.1633 - accuracy: 0.3627 - val_loss: 1.1912 - val_accuracy: 0.1667\n",
      "Epoch 2/100\n",
      "3/3 [==============================] - 0s 7ms/step - loss: 1.1113 - accuracy: 0.3627 - val_loss: 1.1462 - val_accuracy: 0.1667\n",
      "Epoch 3/100\n",
      "3/3 [==============================] - 0s 6ms/step - loss: 1.0818 - accuracy: 0.3627 - val_loss: 1.1113 - val_accuracy: 0.2778\n",
      "Epoch 4/100\n",
      "3/3 [==============================] - 0s 7ms/step - loss: 1.0575 - accuracy: 0.5392 - val_loss: 1.0811 - val_accuracy: 0.5556\n",
      "Epoch 5/100\n",
      "3/3 [==============================] - 0s 7ms/step - loss: 1.0337 - accuracy: 0.6765 - val_loss: 1.0566 - val_accuracy: 0.5556\n",
      "Epoch 6/100\n",
      "3/3 [==============================] - 0s 7ms/step - loss: 1.0139 - accuracy: 0.6765 - val_loss: 1.0383 - val_accuracy: 0.5556\n",
      "Epoch 7/100\n",
      "3/3 [==============================] - 0s 8ms/step - loss: 0.9944 - accuracy: 0.6765 - val_loss: 1.0108 - val_accuracy: 0.5556\n",
      "Epoch 8/100\n",
      "3/3 [==============================] - 0s 7ms/step - loss: 0.9719 - accuracy: 0.6765 - val_loss: 0.9941 - val_accuracy: 0.5556\n",
      "Epoch 9/100\n",
      "3/3 [==============================] - 0s 7ms/step - loss: 0.9565 - accuracy: 0.6765 - val_loss: 0.9796 - val_accuracy: 0.5556\n",
      "Epoch 10/100\n",
      "3/3 [==============================] - 0s 7ms/step - loss: 0.9378 - accuracy: 0.6765 - val_loss: 0.9673 - val_accuracy: 0.5556\n",
      "Epoch 11/100\n",
      "3/3 [==============================] - 0s 7ms/step - loss: 0.9219 - accuracy: 0.6765 - val_loss: 0.9518 - val_accuracy: 0.5556\n",
      "Epoch 12/100\n",
      "3/3 [==============================] - 0s 7ms/step - loss: 0.9059 - accuracy: 0.6765 - val_loss: 0.9363 - val_accuracy: 0.5556\n",
      "Epoch 13/100\n",
      "3/3 [==============================] - 0s 7ms/step - loss: 0.8872 - accuracy: 0.6765 - val_loss: 0.9192 - val_accuracy: 0.5556\n",
      "Epoch 14/100\n",
      "3/3 [==============================] - 0s 7ms/step - loss: 0.8662 - accuracy: 0.6765 - val_loss: 0.9044 - val_accuracy: 0.5556\n",
      "Epoch 15/100\n",
      "3/3 [==============================] - 0s 7ms/step - loss: 0.8485 - accuracy: 0.6765 - val_loss: 0.8908 - val_accuracy: 0.5556\n",
      "Epoch 16/100\n",
      "3/3 [==============================] - 0s 7ms/step - loss: 0.8283 - accuracy: 0.6765 - val_loss: 0.8737 - val_accuracy: 0.5556\n",
      "Epoch 17/100\n",
      "3/3 [==============================] - 0s 7ms/step - loss: 0.8062 - accuracy: 0.6765 - val_loss: 0.8532 - val_accuracy: 0.5556\n",
      "Epoch 18/100\n",
      "3/3 [==============================] - 0s 7ms/step - loss: 0.7856 - accuracy: 0.6765 - val_loss: 0.8349 - val_accuracy: 0.6111\n",
      "Epoch 19/100\n",
      "3/3 [==============================] - 0s 7ms/step - loss: 0.7631 - accuracy: 0.6765 - val_loss: 0.8197 - val_accuracy: 0.6111\n",
      "Epoch 20/100\n",
      "3/3 [==============================] - 0s 7ms/step - loss: 0.7395 - accuracy: 0.6765 - val_loss: 0.8056 - val_accuracy: 0.6111\n",
      "Epoch 21/100\n",
      "3/3 [==============================] - 0s 8ms/step - loss: 0.7161 - accuracy: 0.6863 - val_loss: 0.7816 - val_accuracy: 0.6111\n",
      "Epoch 22/100\n",
      "3/3 [==============================] - 0s 6ms/step - loss: 0.6912 - accuracy: 0.6863 - val_loss: 0.7616 - val_accuracy: 0.6111\n",
      "Epoch 23/100\n",
      "3/3 [==============================] - 0s 8ms/step - loss: 0.6663 - accuracy: 0.6961 - val_loss: 0.7432 - val_accuracy: 0.6667\n",
      "Epoch 24/100\n",
      "3/3 [==============================] - 0s 7ms/step - loss: 0.6413 - accuracy: 0.7255 - val_loss: 0.7207 - val_accuracy: 0.6667\n",
      "Epoch 25/100\n",
      "3/3 [==============================] - 0s 7ms/step - loss: 0.6153 - accuracy: 0.7353 - val_loss: 0.6973 - val_accuracy: 0.6667\n",
      "Epoch 26/100\n",
      "3/3 [==============================] - 0s 7ms/step - loss: 0.5902 - accuracy: 0.7451 - val_loss: 0.6768 - val_accuracy: 0.7778\n",
      "Epoch 27/100\n",
      "3/3 [==============================] - 0s 7ms/step - loss: 0.5673 - accuracy: 0.8431 - val_loss: 0.6557 - val_accuracy: 0.8889\n",
      "Epoch 28/100\n",
      "3/3 [==============================] - 0s 7ms/step - loss: 0.5420 - accuracy: 0.8725 - val_loss: 0.6306 - val_accuracy: 0.7778\n",
      "Epoch 29/100\n",
      "3/3 [==============================] - 0s 7ms/step - loss: 0.5161 - accuracy: 0.8627 - val_loss: 0.6099 - val_accuracy: 0.8889\n",
      "Epoch 30/100\n",
      "3/3 [==============================] - 0s 7ms/step - loss: 0.4953 - accuracy: 0.9412 - val_loss: 0.5888 - val_accuracy: 0.9444\n",
      "Epoch 31/100\n",
      "3/3 [==============================] - 0s 7ms/step - loss: 0.4711 - accuracy: 0.9412 - val_loss: 0.5662 - val_accuracy: 0.8889\n",
      "Epoch 32/100\n",
      "3/3 [==============================] - 0s 8ms/step - loss: 0.4536 - accuracy: 0.8725 - val_loss: 0.5474 - val_accuracy: 0.8889\n",
      "Epoch 33/100\n",
      "3/3 [==============================] - 0s 7ms/step - loss: 0.4329 - accuracy: 0.9706 - val_loss: 0.5356 - val_accuracy: 0.9444\n",
      "Epoch 34/100\n",
      "3/3 [==============================] - 0s 7ms/step - loss: 0.4197 - accuracy: 0.9706 - val_loss: 0.5092 - val_accuracy: 0.9444\n",
      "Epoch 35/100\n",
      "3/3 [==============================] - 0s 7ms/step - loss: 0.3998 - accuracy: 0.9510 - val_loss: 0.4917 - val_accuracy: 0.8889\n",
      "Epoch 36/100\n",
      "3/3 [==============================] - 0s 7ms/step - loss: 0.3835 - accuracy: 0.9706 - val_loss: 0.4788 - val_accuracy: 0.9444\n",
      "Epoch 37/100\n",
      "3/3 [==============================] - 0s 7ms/step - loss: 0.3679 - accuracy: 0.9804 - val_loss: 0.4617 - val_accuracy: 0.9444\n",
      "Epoch 38/100\n",
      "3/3 [==============================] - 0s 7ms/step - loss: 0.3510 - accuracy: 0.9804 - val_loss: 0.4464 - val_accuracy: 0.9444\n",
      "Epoch 39/100\n",
      "3/3 [==============================] - 0s 6ms/step - loss: 0.3403 - accuracy: 0.9608 - val_loss: 0.4295 - val_accuracy: 0.9444\n",
      "Epoch 40/100\n",
      "3/3 [==============================] - 0s 6ms/step - loss: 0.3252 - accuracy: 0.9706 - val_loss: 0.4156 - val_accuracy: 0.9444\n",
      "Epoch 41/100\n",
      "3/3 [==============================] - 0s 6ms/step - loss: 0.3131 - accuracy: 0.9706 - val_loss: 0.3993 - val_accuracy: 0.9444\n",
      "Epoch 42/100\n",
      "3/3 [==============================] - 0s 7ms/step - loss: 0.3013 - accuracy: 0.9804 - val_loss: 0.3876 - val_accuracy: 0.9444\n",
      "Epoch 43/100\n",
      "3/3 [==============================] - 0s 6ms/step - loss: 0.2905 - accuracy: 0.9706 - val_loss: 0.3710 - val_accuracy: 0.9444\n",
      "Epoch 44/100\n",
      "3/3 [==============================] - 0s 6ms/step - loss: 0.2732 - accuracy: 0.9804 - val_loss: 0.3635 - val_accuracy: 0.9444\n",
      "Epoch 45/100\n",
      "3/3 [==============================] - 0s 9ms/step - loss: 0.2657 - accuracy: 0.9706 - val_loss: 0.3501 - val_accuracy: 0.9444\n",
      "Epoch 46/100\n",
      "3/3 [==============================] - 0s 6ms/step - loss: 0.2511 - accuracy: 0.9804 - val_loss: 0.3346 - val_accuracy: 0.9444\n",
      "Epoch 47/100\n",
      "3/3 [==============================] - 0s 6ms/step - loss: 0.2411 - accuracy: 0.9804 - val_loss: 0.3217 - val_accuracy: 0.9444\n",
      "Epoch 48/100\n",
      "3/3 [==============================] - 0s 7ms/step - loss: 0.2272 - accuracy: 0.9804 - val_loss: 0.3106 - val_accuracy: 0.9444\n",
      "Epoch 49/100\n",
      "3/3 [==============================] - 0s 7ms/step - loss: 0.2160 - accuracy: 0.9804 - val_loss: 0.2967 - val_accuracy: 0.9444\n",
      "Epoch 50/100\n",
      "3/3 [==============================] - 0s 7ms/step - loss: 0.2054 - accuracy: 0.9902 - val_loss: 0.2856 - val_accuracy: 0.9444\n",
      "Epoch 51/100\n",
      "3/3 [==============================] - 0s 6ms/step - loss: 0.1973 - accuracy: 0.9804 - val_loss: 0.2920 - val_accuracy: 0.9444\n",
      "Epoch 52/100\n",
      "3/3 [==============================] - 0s 6ms/step - loss: 0.2009 - accuracy: 0.9706 - val_loss: 0.2944 - val_accuracy: 0.8889\n",
      "Epoch 53/100\n",
      "3/3 [==============================] - 0s 6ms/step - loss: 0.1979 - accuracy: 0.9804 - val_loss: 0.2638 - val_accuracy: 0.8889\n",
      "Epoch 54/100\n",
      "3/3 [==============================] - 0s 7ms/step - loss: 0.1812 - accuracy: 0.9608 - val_loss: 0.2747 - val_accuracy: 0.9444\n",
      "Epoch 55/100\n",
      "3/3 [==============================] - 0s 7ms/step - loss: 0.1678 - accuracy: 0.9804 - val_loss: 0.2668 - val_accuracy: 0.9444\n",
      "Epoch 56/100\n",
      "3/3 [==============================] - 0s 6ms/step - loss: 0.1577 - accuracy: 0.9902 - val_loss: 0.2467 - val_accuracy: 0.9444\n",
      "Epoch 57/100\n",
      "3/3 [==============================] - 0s 6ms/step - loss: 0.1505 - accuracy: 0.9902 - val_loss: 0.2372 - val_accuracy: 0.9444\n",
      "Epoch 58/100\n",
      "3/3 [==============================] - 0s 7ms/step - loss: 0.1464 - accuracy: 0.9706 - val_loss: 0.2344 - val_accuracy: 0.9444\n",
      "Epoch 59/100\n",
      "3/3 [==============================] - 0s 6ms/step - loss: 0.1366 - accuracy: 0.9902 - val_loss: 0.2622 - val_accuracy: 0.8889\n",
      "Epoch 60/100\n",
      "3/3 [==============================] - 0s 7ms/step - loss: 0.1387 - accuracy: 0.9804 - val_loss: 0.2413 - val_accuracy: 0.9444\n",
      "Epoch 61/100\n",
      "3/3 [==============================] - 0s 6ms/step - loss: 0.1272 - accuracy: 0.9902 - val_loss: 0.2204 - val_accuracy: 0.9444\n",
      "Epoch 62/100\n",
      "3/3 [==============================] - 0s 6ms/step - loss: 0.1229 - accuracy: 1.0000 - val_loss: 0.2303 - val_accuracy: 0.9444\n",
      "Epoch 63/100\n",
      "3/3 [==============================] - 0s 7ms/step - loss: 0.1160 - accuracy: 0.9902 - val_loss: 0.2304 - val_accuracy: 0.9444\n",
      "Epoch 64/100\n",
      "3/3 [==============================] - 0s 6ms/step - loss: 0.1118 - accuracy: 0.9902 - val_loss: 0.2324 - val_accuracy: 0.9444\n",
      "Epoch 65/100\n",
      "3/3 [==============================] - 0s 7ms/step - loss: 0.1063 - accuracy: 0.9902 - val_loss: 0.2148 - val_accuracy: 0.9444\n",
      "Epoch 66/100\n",
      "3/3 [==============================] - 0s 7ms/step - loss: 0.1037 - accuracy: 0.9902 - val_loss: 0.2194 - val_accuracy: 0.9444\n",
      "Epoch 67/100\n",
      "3/3 [==============================] - 0s 7ms/step - loss: 0.0980 - accuracy: 0.9902 - val_loss: 0.2205 - val_accuracy: 0.9444\n",
      "Epoch 68/100\n",
      "3/3 [==============================] - 0s 7ms/step - loss: 0.0955 - accuracy: 0.9902 - val_loss: 0.2115 - val_accuracy: 0.9444\n",
      "Epoch 69/100\n",
      "3/3 [==============================] - 0s 6ms/step - loss: 0.0997 - accuracy: 0.9706 - val_loss: 0.2132 - val_accuracy: 0.9444\n",
      "Epoch 70/100\n",
      "3/3 [==============================] - 0s 6ms/step - loss: 0.1035 - accuracy: 0.9804 - val_loss: 0.2711 - val_accuracy: 0.8889\n",
      "Epoch 71/100\n",
      "3/3 [==============================] - 0s 7ms/step - loss: 0.0904 - accuracy: 0.9804 - val_loss: 0.2008 - val_accuracy: 0.8889\n",
      "Epoch 72/100\n",
      "3/3 [==============================] - 0s 6ms/step - loss: 0.1051 - accuracy: 0.9608 - val_loss: 0.2016 - val_accuracy: 0.8889\n",
      "Epoch 73/100\n",
      "3/3 [==============================] - 0s 6ms/step - loss: 0.0832 - accuracy: 1.0000 - val_loss: 0.2858 - val_accuracy: 0.8889\n",
      "Epoch 74/100\n",
      "3/3 [==============================] - 0s 6ms/step - loss: 0.0938 - accuracy: 0.9706 - val_loss: 0.2227 - val_accuracy: 0.9444\n",
      "Epoch 75/100\n",
      "3/3 [==============================] - 0s 7ms/step - loss: 0.0932 - accuracy: 0.9608 - val_loss: 0.1975 - val_accuracy: 0.8889\n",
      "Epoch 76/100\n",
      "3/3 [==============================] - 0s 6ms/step - loss: 0.0798 - accuracy: 0.9608 - val_loss: 0.2766 - val_accuracy: 0.8889\n",
      "Epoch 77/100\n",
      "3/3 [==============================] - 0s 7ms/step - loss: 0.0912 - accuracy: 0.9706 - val_loss: 0.2336 - val_accuracy: 0.8889\n",
      "Epoch 78/100\n",
      "3/3 [==============================] - 0s 7ms/step - loss: 0.0805 - accuracy: 0.9804 - val_loss: 0.1924 - val_accuracy: 0.8889\n",
      "Epoch 79/100\n",
      "3/3 [==============================] - 0s 6ms/step - loss: 0.0817 - accuracy: 0.9706 - val_loss: 0.2470 - val_accuracy: 0.8889\n",
      "Epoch 80/100\n",
      "3/3 [==============================] - 0s 7ms/step - loss: 0.0771 - accuracy: 0.9902 - val_loss: 0.2960 - val_accuracy: 0.8889\n",
      "Epoch 81/100\n",
      "3/3 [==============================] - 0s 6ms/step - loss: 0.0768 - accuracy: 0.9902 - val_loss: 0.2144 - val_accuracy: 0.9444\n",
      "Epoch 82/100\n",
      "3/3 [==============================] - 0s 6ms/step - loss: 0.0784 - accuracy: 0.9706 - val_loss: 0.1980 - val_accuracy: 0.8889\n",
      "Epoch 83/100\n",
      "3/3 [==============================] - 0s 6ms/step - loss: 0.0670 - accuracy: 0.9902 - val_loss: 0.2821 - val_accuracy: 0.8889\n",
      "Epoch 84/100\n",
      "3/3 [==============================] - 0s 6ms/step - loss: 0.0767 - accuracy: 0.9804 - val_loss: 0.2694 - val_accuracy: 0.8889\n",
      "Epoch 85/100\n",
      "3/3 [==============================] - 0s 8ms/step - loss: 0.0640 - accuracy: 0.9902 - val_loss: 0.1975 - val_accuracy: 0.8889\n",
      "Epoch 86/100\n",
      "3/3 [==============================] - 0s 7ms/step - loss: 0.0712 - accuracy: 0.9804 - val_loss: 0.2260 - val_accuracy: 0.9444\n",
      "Epoch 87/100\n",
      "3/3 [==============================] - 0s 7ms/step - loss: 0.0577 - accuracy: 0.9902 - val_loss: 0.2728 - val_accuracy: 0.8889\n",
      "Epoch 88/100\n",
      "3/3 [==============================] - 0s 7ms/step - loss: 0.0607 - accuracy: 0.9902 - val_loss: 0.2396 - val_accuracy: 0.8889\n",
      "Epoch 89/100\n",
      "3/3 [==============================] - 0s 7ms/step - loss: 0.0531 - accuracy: 1.0000 - val_loss: 0.2207 - val_accuracy: 0.9444\n",
      "Epoch 90/100\n",
      "3/3 [==============================] - 0s 7ms/step - loss: 0.0557 - accuracy: 1.0000 - val_loss: 0.2255 - val_accuracy: 0.9444\n",
      "Epoch 91/100\n",
      "3/3 [==============================] - 0s 7ms/step - loss: 0.0574 - accuracy: 0.9902 - val_loss: 0.2750 - val_accuracy: 0.8889\n",
      "Epoch 92/100\n",
      "3/3 [==============================] - 0s 7ms/step - loss: 0.0552 - accuracy: 0.9902 - val_loss: 0.2412 - val_accuracy: 0.8889\n",
      "Epoch 93/100\n",
      "3/3 [==============================] - 0s 8ms/step - loss: 0.0516 - accuracy: 1.0000 - val_loss: 0.2145 - val_accuracy: 0.8889\n",
      "Epoch 94/100\n",
      "3/3 [==============================] - 0s 7ms/step - loss: 0.0539 - accuracy: 1.0000 - val_loss: 0.2569 - val_accuracy: 0.8889\n",
      "Epoch 95/100\n",
      "3/3 [==============================] - 0s 8ms/step - loss: 0.0489 - accuracy: 0.9902 - val_loss: 0.2617 - val_accuracy: 0.8889\n",
      "Epoch 96/100\n",
      "3/3 [==============================] - 0s 6ms/step - loss: 0.0466 - accuracy: 0.9902 - val_loss: 0.2347 - val_accuracy: 0.9444\n",
      "Epoch 97/100\n",
      "3/3 [==============================] - 0s 6ms/step - loss: 0.0468 - accuracy: 1.0000 - val_loss: 0.2308 - val_accuracy: 0.9444\n",
      "Epoch 98/100\n",
      "3/3 [==============================] - 0s 7ms/step - loss: 0.0481 - accuracy: 1.0000 - val_loss: 0.2484 - val_accuracy: 0.8889\n",
      "Epoch 99/100\n",
      "3/3 [==============================] - 0s 7ms/step - loss: 0.0442 - accuracy: 1.0000 - val_loss: 0.2575 - val_accuracy: 0.8889\n",
      "Epoch 100/100\n",
      "3/3 [==============================] - 0s 7ms/step - loss: 0.0462 - accuracy: 0.9902 - val_loss: 0.2634 - val_accuracy: 0.8889\n"
     ]
    }
   ],
   "source": [
    "# Run your function to train the model\n",
    "\n",
    "history = train_model(model, train_data, train_targets, epochs=800)"
   ]
  },
  {
   "cell_type": "markdown",
   "metadata": {
    "id": "ssIHu5cM-QOn"
   },
   "source": [
    "#### Plot the learning curves\n",
    "\n",
    "We will now plot two graphs:\n",
    "* Epoch vs accuracy\n",
    "* Epoch vs loss\n"
   ]
  },
  {
   "cell_type": "code",
   "execution_count": 11,
   "metadata": {
    "colab": {
     "base_uri": "https://localhost:8080/",
     "height": 295
    },
    "executionInfo": {
     "elapsed": 2833,
     "status": "ok",
     "timestamp": 1601222256494,
     "user": {
      "displayName": "Halil Uysal",
      "photoUrl": "",
      "userId": "03813492140216734474"
     },
     "user_tz": 240
    },
    "id": "JRFBWnUX-QOo",
    "outputId": "fb2b150d-117a-49d3-9c2a-d5a21863043e"
   },
   "outputs": [
    {
     "data": {
      "image/png": "[encoded data removed]",
      "text/plain": [
       "<Figure size 432x288 with 1 Axes>"
      ]
     },
     "metadata": {
      "needs_background": "light",
      "tags": []
     },
     "output_type": "display_data"
    }
   ],
   "source": [
    "#Run this cell to plot the epoch vs accuracy graph\n",
    "\n",
    "try:\n",
    "    plt.plot(history.history['accuracy'])\n",
    "    plt.plot(history.history['val_accuracy'])\n",
    "except KeyError:\n",
    "    plt.plot(history.history['acc'])\n",
    "    plt.plot(history.history['val_acc'])\n",
    "plt.title('Accuracy vs. epochs')\n",
    "plt.ylabel('Loss')\n",
    "plt.xlabel('Epoch')\n",
    "plt.legend(['Training', 'Validation'], loc='lower right')\n",
    "plt.show() "
   ]
  },
  {
   "cell_type": "code",
   "execution_count": 12,
   "metadata": {
    "colab": {
     "base_uri": "https://localhost:8080/",
     "height": 295
    },
    "executionInfo": {
     "elapsed": 629,
     "status": "ok",
     "timestamp": 1601222258249,
     "user": {
      "displayName": "Halil Uysal",
      "photoUrl": "",
      "userId": "03813492140216734474"
     },
     "user_tz": 240
    },
    "id": "tj0Ir6Sr-QOq",
    "outputId": "9d3a8142-2ea1-43e9-a857-79238974e5f7"
   },
   "outputs": [
    {
     "data": {
      "image/png": "[encoded data removed]",
      "text/plain": [
       "<Figure size 432x288 with 1 Axes>"
      ]
     },
     "metadata": {
      "needs_background": "light",
      "tags": []
     },
     "output_type": "display_data"
    }
   ],
   "source": [
    "#Run this cell to plot the epoch vs loss graph\n",
    "plt.plot(history.history['loss'])\n",
    "plt.plot(history.history['val_loss'])\n",
    "plt.title('Loss vs. epochs')\n",
    "plt.ylabel('Loss')\n",
    "plt.xlabel('Epoch')\n",
    "plt.legend(['Training', 'Validation'], loc='upper right')\n",
    "plt.show() "
   ]
  },
  {
   "cell_type": "markdown",
   "metadata": {
    "id": "qrsUWJwj-QOr"
   },
   "source": [
    "Oh no! We have overfit our dataset. You should now try to now try to mitigate this overfitting."
   ]
  },
  {
   "cell_type": "markdown",
   "metadata": {
    "id": "R6N_uo6m-QOs"
   },
   "source": [
    "#### Reducing overfitting in the model"
   ]
  },
  {
   "cell_type": "markdown",
   "metadata": {
    "id": "BGME_x9a-QOs"
   },
   "source": [
    "You should now define a new regularised model.\n",
    "The specs for the regularised model are the same as our original model, with the addition of two dropout layers, weight decay, and a batch normalisation layer. \n",
    "\n",
    "In particular:\n",
    "\n",
    "* Add a dropout layer after the 3rd Dense layer\n",
    "* Then there should be two more Dense layers with 128 units before a batch normalisation layer\n",
    "* Following this, two more Dense layers with 64 units and then another Dropout layer\n",
    "* Two more Dense layers with 64 units and then the final 3-way softmax layer\n",
    "* Add weight decay (l2 kernel regularisation) in all Dense layers except the final softmax layer"
   ]
  },
  {
   "cell_type": "code",
   "execution_count": 43,
   "metadata": {
    "executionInfo": {
     "elapsed": 537,
     "status": "ok",
     "timestamp": 1601222867669,
     "user": {
      "displayName": "Halil Uysal",
      "photoUrl": "",
      "userId": "03813492140216734474"
     },
     "user_tz": 240
    },
    "id": "rYytfpmm-QOv"
   },
   "outputs": [],
   "source": [
    "#### GRADED CELL ####\n",
    "\n",
    "# Complete the following function. \n",
    "# Make sure to not change the function name or arguments.\n",
    "\n",
    "def get_regularised_model(input_shape, dropout_rate, weight_decay):\n",
    "    \"\"\"\n",
    "    This function should build a regularised Sequential model according to the above specification. \n",
    "    The dropout_rate argument in the function should be used to set the Dropout rate for all Dropout layers.\n",
    "    L2 kernel regularisation (weight decay) should be added using the weight_decay argument to \n",
    "    set the weight decay coefficient in all Dense layers that use L2 regularisation.\n",
    "    Ensure the weights are initialised by providing the input_shape argument in the first layer, given by the\n",
    "    function argument input_shape.\n",
    "    Your function should return the model.\n",
    "    \"\"\"\n",
    "    model = tf.keras.models.Sequential([\n",
    "                                        tf.keras.layers.Dense(units=64, input_shape=input_shape, kernel_initializer=tf.keras.initializers.he_uniform(), bias_initializer=tf.keras.initializers.Ones(), activation='relu', kernel_regularizer=tf.keras.regularizers.L2(l2=weight_decay)),\n",
    "                                        tf.keras.layers.Dense(units=128, activation='relu', kernel_regularizer=tf.keras.regularizers.l2(l2=weight_decay)),\n",
    "                                        tf.keras.layers.Dense(units=128, activation='relu', kernel_regularizer=tf.keras.regularizers.l2(l2=weight_decay)),\n",
    "                                        tf.keras.layers.Dropout(rate=dropout_rate),\n",
    "                                        tf.keras.layers.Dense(units=128, activation='relu', kernel_regularizer=tf.keras.regularizers.l2(l2=weight_decay)),\n",
    "                                        tf.keras.layers.Dense(units=128, activation='relu', kernel_regularizer=tf.keras.regularizers.l2(l2=weight_decay)),\n",
    "                                        tf.keras.layers.BatchNormalization(),\n",
    "                                        tf.keras.layers.Dense(units=64, activation='relu', kernel_regularizer=tf.keras.regularizers.l2(l2=weight_decay)),\n",
    "                                        tf.keras.layers.Dense(units=64, activation='relu', kernel_regularizer=tf.keras.regularizers.l2(l2=weight_decay)),\n",
    "                                        tf.keras.layers.Dropout(rate=dropout_rate),\n",
    "                                        tf.keras.layers.Dense(units=64, activation='relu', kernel_regularizer=tf.keras.regularizers.l2(l2=weight_decay)),\n",
    "                                        tf.keras.layers.Dense(units=64, activation='relu', kernel_regularizer=tf.keras.regularizers.l2(l2=weight_decay)),\n",
    "                                        tf.keras.layers.Dense(units=3, activation='softmax')\n",
    "    ])\n",
    "    return model\n",
    "    "
   ]
  },
  {
   "cell_type": "markdown",
   "metadata": {
    "id": "qw79AOPy-QOx"
   },
   "source": [
    "#### Instantiate, compile and train the model"
   ]
  },
  {
   "cell_type": "code",
   "execution_count": 44,
   "metadata": {
    "executionInfo": {
     "elapsed": 530,
     "status": "ok",
     "timestamp": 1601222869380,
     "user": {
      "displayName": "Halil Uysal",
      "photoUrl": "",
      "userId": "03813492140216734474"
     },
     "user_tz": 240
    },
    "id": "iO8JYVXB-QOz"
   },
   "outputs": [],
   "source": [
    "# Instantiate the model, using a dropout rate of 0.3 and weight decay coefficient of 0.001\n",
    "\n",
    "reg_model = get_regularised_model(train_data[0].shape, 0.3, 0.001)"
   ]
  },
  {
   "cell_type": "code",
   "execution_count": 45,
   "metadata": {
    "executionInfo": {
     "elapsed": 1079,
     "status": "ok",
     "timestamp": 1601222870975,
     "user": {
      "displayName": "Halil Uysal",
      "photoUrl": "",
      "userId": "03813492140216734474"
     },
     "user_tz": 240
    },
    "id": "nOEqCQ3I-QO2"
   },
   "outputs": [],
   "source": [
    "# Compile the model\n",
    "compile_model(reg_model)"
   ]
  },
  {
   "cell_type": "code",
   "execution_count": 46,
   "metadata": {
    "colab": {
     "base_uri": "https://localhost:8080/",
     "height": 1000
    },
    "executionInfo": {
     "elapsed": 4623,
     "status": "ok",
     "timestamp": 1601222876000,
     "user": {
      "displayName": "Halil Uysal",
      "photoUrl": "",
      "userId": "03813492140216734474"
     },
     "user_tz": 240
    },
    "id": "5Eg83stX-QO6",
    "outputId": "5bb3fe15-99b3-49ae-9e97-253bdfa66f37"
   },
   "outputs": [
    {
     "name": "stdout",
     "output_type": "stream",
     "text": [
      "Epoch 1/100\n",
      "3/3 [==============================] - 0s 74ms/step - loss: 1.9526 - accuracy: 0.4118 - val_loss: 1.9930 - val_accuracy: 0.5556\n",
      "Epoch 2/100\n",
      "3/3 [==============================] - 0s 8ms/step - loss: 1.9238 - accuracy: 0.5000 - val_loss: 1.9755 - val_accuracy: 0.5000\n",
      "Epoch 3/100\n",
      "3/3 [==============================] - 0s 8ms/step - loss: 1.9598 - accuracy: 0.4020 - val_loss: 1.9600 - val_accuracy: 0.5000\n",
      "Epoch 4/100\n",
      "3/3 [==============================] - 0s 8ms/step - loss: 1.9227 - accuracy: 0.4118 - val_loss: 1.9481 - val_accuracy: 0.5000\n",
      "Epoch 5/100\n",
      "3/3 [==============================] - 0s 7ms/step - loss: 1.9432 - accuracy: 0.4314 - val_loss: 1.9360 - val_accuracy: 0.5000\n",
      "Epoch 6/100\n",
      "3/3 [==============================] - 0s 7ms/step - loss: 1.8901 - accuracy: 0.4902 - val_loss: 1.9231 - val_accuracy: 0.4444\n",
      "Epoch 7/100\n",
      "3/3 [==============================] - 0s 9ms/step - loss: 1.9183 - accuracy: 0.4510 - val_loss: 1.9110 - val_accuracy: 0.5000\n",
      "Epoch 8/100\n",
      "3/3 [==============================] - 0s 9ms/step - loss: 1.9094 - accuracy: 0.4020 - val_loss: 1.8983 - val_accuracy: 0.5556\n",
      "Epoch 9/100\n",
      "3/3 [==============================] - 0s 8ms/step - loss: 1.9148 - accuracy: 0.4314 - val_loss: 1.8850 - val_accuracy: 0.5556\n",
      "Epoch 10/100\n",
      "3/3 [==============================] - 0s 8ms/step - loss: 1.9044 - accuracy: 0.4412 - val_loss: 1.8717 - val_accuracy: 0.5556\n",
      "Epoch 11/100\n",
      "3/3 [==============================] - 0s 7ms/step - loss: 1.8335 - accuracy: 0.5882 - val_loss: 1.8599 - val_accuracy: 0.5556\n",
      "Epoch 12/100\n",
      "3/3 [==============================] - 0s 9ms/step - loss: 1.8390 - accuracy: 0.5196 - val_loss: 1.8491 - val_accuracy: 0.5556\n",
      "Epoch 13/100\n",
      "3/3 [==============================] - 0s 7ms/step - loss: 1.8457 - accuracy: 0.5490 - val_loss: 1.8405 - val_accuracy: 0.5556\n",
      "Epoch 14/100\n",
      "3/3 [==============================] - 0s 8ms/step - loss: 1.8133 - accuracy: 0.5882 - val_loss: 1.8316 - val_accuracy: 0.5556\n",
      "Epoch 15/100\n",
      "3/3 [==============================] - 0s 8ms/step - loss: 1.8039 - accuracy: 0.5686 - val_loss: 1.8269 - val_accuracy: 0.5556\n",
      "Epoch 16/100\n",
      "3/3 [==============================] - 0s 8ms/step - loss: 1.8184 - accuracy: 0.4706 - val_loss: 1.8205 - val_accuracy: 0.5556\n",
      "Epoch 17/100\n",
      "3/3 [==============================] - 0s 8ms/step - loss: 1.7786 - accuracy: 0.5882 - val_loss: 1.8127 - val_accuracy: 0.5556\n",
      "Epoch 18/100\n",
      "3/3 [==============================] - 0s 8ms/step - loss: 1.7166 - accuracy: 0.6667 - val_loss: 1.8049 - val_accuracy: 0.5556\n",
      "Epoch 19/100\n",
      "3/3 [==============================] - 0s 8ms/step - loss: 1.7517 - accuracy: 0.5882 - val_loss: 1.7952 - val_accuracy: 0.5556\n",
      "Epoch 20/100\n",
      "3/3 [==============================] - 0s 8ms/step - loss: 1.7336 - accuracy: 0.5588 - val_loss: 1.7814 - val_accuracy: 0.5556\n",
      "Epoch 21/100\n",
      "3/3 [==============================] - 0s 8ms/step - loss: 1.6963 - accuracy: 0.5980 - val_loss: 1.7659 - val_accuracy: 0.5556\n",
      "Epoch 22/100\n",
      "3/3 [==============================] - 0s 8ms/step - loss: 1.6875 - accuracy: 0.6569 - val_loss: 1.7506 - val_accuracy: 0.5556\n",
      "Epoch 23/100\n",
      "3/3 [==============================] - 0s 8ms/step - loss: 1.6386 - accuracy: 0.6863 - val_loss: 1.7349 - val_accuracy: 0.5556\n",
      "Epoch 24/100\n",
      "3/3 [==============================] - 0s 8ms/step - loss: 1.6245 - accuracy: 0.6373 - val_loss: 1.7182 - val_accuracy: 0.5556\n",
      "Epoch 25/100\n",
      "3/3 [==============================] - 0s 8ms/step - loss: 1.6234 - accuracy: 0.6176 - val_loss: 1.7024 - val_accuracy: 0.5556\n",
      "Epoch 26/100\n",
      "3/3 [==============================] - 0s 8ms/step - loss: 1.5678 - accuracy: 0.7353 - val_loss: 1.6878 - val_accuracy: 0.5556\n",
      "Epoch 27/100\n",
      "3/3 [==============================] - 0s 10ms/step - loss: 1.6132 - accuracy: 0.6471 - val_loss: 1.6750 - val_accuracy: 0.5556\n",
      "Epoch 28/100\n",
      "3/3 [==============================] - 0s 8ms/step - loss: 1.5890 - accuracy: 0.5882 - val_loss: 1.6635 - val_accuracy: 0.5556\n",
      "Epoch 29/100\n",
      "3/3 [==============================] - 0s 7ms/step - loss: 1.5596 - accuracy: 0.6275 - val_loss: 1.6518 - val_accuracy: 0.5556\n",
      "Epoch 30/100\n",
      "3/3 [==============================] - 0s 8ms/step - loss: 1.5311 - accuracy: 0.6667 - val_loss: 1.6392 - val_accuracy: 0.5556\n",
      "Epoch 31/100\n",
      "3/3 [==============================] - 0s 8ms/step - loss: 1.5565 - accuracy: 0.6569 - val_loss: 1.6252 - val_accuracy: 0.5556\n",
      "Epoch 32/100\n",
      "3/3 [==============================] - 0s 9ms/step - loss: 1.5052 - accuracy: 0.7157 - val_loss: 1.6099 - val_accuracy: 0.5556\n",
      "Epoch 33/100\n",
      "3/3 [==============================] - 0s 7ms/step - loss: 1.5131 - accuracy: 0.6863 - val_loss: 1.5945 - val_accuracy: 0.5556\n",
      "Epoch 34/100\n",
      "3/3 [==============================] - 0s 8ms/step - loss: 1.4876 - accuracy: 0.7059 - val_loss: 1.5799 - val_accuracy: 0.5556\n",
      "Epoch 35/100\n",
      "3/3 [==============================] - 0s 8ms/step - loss: 1.4564 - accuracy: 0.6667 - val_loss: 1.5649 - val_accuracy: 0.5556\n",
      "Epoch 36/100\n",
      "3/3 [==============================] - 0s 7ms/step - loss: 1.4734 - accuracy: 0.6667 - val_loss: 1.5501 - val_accuracy: 0.5556\n",
      "Epoch 37/100\n",
      "3/3 [==============================] - 0s 7ms/step - loss: 1.4515 - accuracy: 0.7353 - val_loss: 1.5358 - val_accuracy: 0.5556\n",
      "Epoch 38/100\n",
      "3/3 [==============================] - 0s 7ms/step - loss: 1.4215 - accuracy: 0.7255 - val_loss: 1.5211 - val_accuracy: 0.5556\n",
      "Epoch 39/100\n",
      "3/3 [==============================] - 0s 7ms/step - loss: 1.3763 - accuracy: 0.7353 - val_loss: 1.5086 - val_accuracy: 0.5556\n",
      "Epoch 40/100\n",
      "3/3 [==============================] - 0s 8ms/step - loss: 1.3874 - accuracy: 0.7451 - val_loss: 1.4947 - val_accuracy: 0.5556\n",
      "Epoch 41/100\n",
      "3/3 [==============================] - 0s 7ms/step - loss: 1.3782 - accuracy: 0.7255 - val_loss: 1.4807 - val_accuracy: 0.5556\n",
      "Epoch 42/100\n",
      "3/3 [==============================] - 0s 7ms/step - loss: 1.3828 - accuracy: 0.7059 - val_loss: 1.4688 - val_accuracy: 0.5556\n",
      "Epoch 43/100\n",
      "3/3 [==============================] - 0s 7ms/step - loss: 1.3731 - accuracy: 0.7059 - val_loss: 1.4567 - val_accuracy: 0.5556\n",
      "Epoch 44/100\n",
      "3/3 [==============================] - 0s 7ms/step - loss: 1.3783 - accuracy: 0.6863 - val_loss: 1.4459 - val_accuracy: 0.6111\n",
      "Epoch 45/100\n",
      "3/3 [==============================] - 0s 8ms/step - loss: 1.3388 - accuracy: 0.7745 - val_loss: 1.4356 - val_accuracy: 0.6111\n",
      "Epoch 46/100\n",
      "3/3 [==============================] - 0s 7ms/step - loss: 1.3649 - accuracy: 0.6863 - val_loss: 1.4262 - val_accuracy: 0.6111\n",
      "Epoch 47/100\n",
      "3/3 [==============================] - 0s 7ms/step - loss: 1.3495 - accuracy: 0.7549 - val_loss: 1.4158 - val_accuracy: 0.6667\n",
      "Epoch 48/100\n",
      "3/3 [==============================] - 0s 7ms/step - loss: 1.3328 - accuracy: 0.7255 - val_loss: 1.4043 - val_accuracy: 0.6667\n",
      "Epoch 49/100\n",
      "3/3 [==============================] - 0s 7ms/step - loss: 1.3453 - accuracy: 0.7353 - val_loss: 1.3931 - val_accuracy: 0.6667\n",
      "Epoch 50/100\n",
      "3/3 [==============================] - 0s 7ms/step - loss: 1.3317 - accuracy: 0.7157 - val_loss: 1.3817 - val_accuracy: 0.6667\n",
      "Epoch 51/100\n",
      "3/3 [==============================] - 0s 7ms/step - loss: 1.3469 - accuracy: 0.7353 - val_loss: 1.3719 - val_accuracy: 0.6667\n",
      "Epoch 52/100\n",
      "3/3 [==============================] - 0s 7ms/step - loss: 1.3362 - accuracy: 0.7451 - val_loss: 1.3637 - val_accuracy: 0.7222\n",
      "Epoch 53/100\n",
      "3/3 [==============================] - 0s 7ms/step - loss: 1.3272 - accuracy: 0.7549 - val_loss: 1.3559 - val_accuracy: 0.7222\n",
      "Epoch 54/100\n",
      "3/3 [==============================] - 0s 8ms/step - loss: 1.2906 - accuracy: 0.7647 - val_loss: 1.3490 - val_accuracy: 0.7222\n",
      "Epoch 55/100\n",
      "3/3 [==============================] - 0s 8ms/step - loss: 1.2748 - accuracy: 0.7549 - val_loss: 1.3409 - val_accuracy: 0.7222\n",
      "Epoch 56/100\n",
      "3/3 [==============================] - 0s 8ms/step - loss: 1.2874 - accuracy: 0.7255 - val_loss: 1.3336 - val_accuracy: 0.7222\n",
      "Epoch 57/100\n",
      "3/3 [==============================] - 0s 7ms/step - loss: 1.2938 - accuracy: 0.6961 - val_loss: 1.3286 - val_accuracy: 0.7222\n",
      "Epoch 58/100\n",
      "3/3 [==============================] - 0s 7ms/step - loss: 1.2715 - accuracy: 0.7647 - val_loss: 1.3234 - val_accuracy: 0.7222\n",
      "Epoch 59/100\n",
      "3/3 [==============================] - 0s 7ms/step - loss: 1.2641 - accuracy: 0.7255 - val_loss: 1.3174 - val_accuracy: 0.7222\n",
      "Epoch 60/100\n",
      "3/3 [==============================] - 0s 7ms/step - loss: 1.2544 - accuracy: 0.7843 - val_loss: 1.3113 - val_accuracy: 0.7778\n",
      "Epoch 61/100\n",
      "3/3 [==============================] - 0s 7ms/step - loss: 1.2457 - accuracy: 0.7941 - val_loss: 1.3042 - val_accuracy: 0.7778\n",
      "Epoch 62/100\n",
      "3/3 [==============================] - 0s 8ms/step - loss: 1.2548 - accuracy: 0.7745 - val_loss: 1.2972 - val_accuracy: 0.7778\n",
      "Epoch 63/100\n",
      "3/3 [==============================] - 0s 7ms/step - loss: 1.2330 - accuracy: 0.7843 - val_loss: 1.2891 - val_accuracy: 0.7778\n",
      "Epoch 64/100\n",
      "3/3 [==============================] - 0s 7ms/step - loss: 1.2613 - accuracy: 0.7843 - val_loss: 1.2808 - val_accuracy: 0.8333\n",
      "Epoch 65/100\n",
      "3/3 [==============================] - 0s 9ms/step - loss: 1.2124 - accuracy: 0.8039 - val_loss: 1.2723 - val_accuracy: 0.8333\n",
      "Epoch 66/100\n",
      "3/3 [==============================] - 0s 8ms/step - loss: 1.2062 - accuracy: 0.8235 - val_loss: 1.2644 - val_accuracy: 0.8889\n",
      "Epoch 67/100\n",
      "3/3 [==============================] - 0s 7ms/step - loss: 1.2289 - accuracy: 0.8039 - val_loss: 1.2574 - val_accuracy: 0.9444\n",
      "Epoch 68/100\n",
      "3/3 [==============================] - 0s 7ms/step - loss: 1.1896 - accuracy: 0.8725 - val_loss: 1.2491 - val_accuracy: 0.9444\n",
      "Epoch 69/100\n",
      "3/3 [==============================] - 0s 7ms/step - loss: 1.2155 - accuracy: 0.8039 - val_loss: 1.2424 - val_accuracy: 0.9444\n",
      "Epoch 70/100\n",
      "3/3 [==============================] - 0s 7ms/step - loss: 1.1996 - accuracy: 0.8039 - val_loss: 1.2360 - val_accuracy: 0.9444\n",
      "Epoch 71/100\n",
      "3/3 [==============================] - 0s 7ms/step - loss: 1.1867 - accuracy: 0.8235 - val_loss: 1.2288 - val_accuracy: 0.9444\n",
      "Epoch 72/100\n",
      "3/3 [==============================] - 0s 8ms/step - loss: 1.1995 - accuracy: 0.8039 - val_loss: 1.2214 - val_accuracy: 0.9444\n",
      "Epoch 73/100\n",
      "3/3 [==============================] - 0s 7ms/step - loss: 1.2496 - accuracy: 0.7255 - val_loss: 1.2141 - val_accuracy: 0.9444\n",
      "Epoch 74/100\n",
      "3/3 [==============================] - 0s 7ms/step - loss: 1.1920 - accuracy: 0.8137 - val_loss: 1.2075 - val_accuracy: 0.9444\n",
      "Epoch 75/100\n",
      "3/3 [==============================] - 0s 7ms/step - loss: 1.2421 - accuracy: 0.7647 - val_loss: 1.2024 - val_accuracy: 0.9444\n",
      "Epoch 76/100\n",
      "3/3 [==============================] - 0s 8ms/step - loss: 1.1634 - accuracy: 0.8529 - val_loss: 1.1947 - val_accuracy: 0.9444\n",
      "Epoch 77/100\n",
      "3/3 [==============================] - 0s 8ms/step - loss: 1.1859 - accuracy: 0.8235 - val_loss: 1.1843 - val_accuracy: 0.9444\n",
      "Epoch 78/100\n",
      "3/3 [==============================] - 0s 7ms/step - loss: 1.1791 - accuracy: 0.8725 - val_loss: 1.1746 - val_accuracy: 0.9444\n",
      "Epoch 79/100\n",
      "3/3 [==============================] - 0s 9ms/step - loss: 1.2086 - accuracy: 0.8039 - val_loss: 1.1682 - val_accuracy: 0.9444\n",
      "Epoch 80/100\n",
      "3/3 [==============================] - 0s 7ms/step - loss: 1.1390 - accuracy: 0.8922 - val_loss: 1.1618 - val_accuracy: 0.9444\n",
      "Epoch 81/100\n",
      "3/3 [==============================] - 0s 7ms/step - loss: 1.1639 - accuracy: 0.8333 - val_loss: 1.1587 - val_accuracy: 0.8889\n",
      "Epoch 82/100\n",
      "3/3 [==============================] - 0s 7ms/step - loss: 1.1551 - accuracy: 0.8333 - val_loss: 1.1577 - val_accuracy: 0.8889\n",
      "Epoch 83/100\n",
      "3/3 [==============================] - 0s 7ms/step - loss: 1.0892 - accuracy: 0.8922 - val_loss: 1.1563 - val_accuracy: 0.8889\n",
      "Epoch 84/100\n",
      "3/3 [==============================] - 0s 7ms/step - loss: 1.1627 - accuracy: 0.8333 - val_loss: 1.1558 - val_accuracy: 0.8889\n",
      "Epoch 85/100\n",
      "3/3 [==============================] - 0s 8ms/step - loss: 1.1043 - accuracy: 0.8824 - val_loss: 1.1530 - val_accuracy: 0.8889\n",
      "Epoch 86/100\n",
      "3/3 [==============================] - 0s 7ms/step - loss: 1.1353 - accuracy: 0.8627 - val_loss: 1.1404 - val_accuracy: 0.8889\n",
      "Epoch 87/100\n",
      "3/3 [==============================] - 0s 8ms/step - loss: 1.1185 - accuracy: 0.8431 - val_loss: 1.1252 - val_accuracy: 0.8889\n",
      "Epoch 88/100\n",
      "3/3 [==============================] - 0s 7ms/step - loss: 1.1114 - accuracy: 0.8922 - val_loss: 1.1133 - val_accuracy: 0.8889\n",
      "Epoch 89/100\n",
      "3/3 [==============================] - 0s 8ms/step - loss: 1.1005 - accuracy: 0.8725 - val_loss: 1.1062 - val_accuracy: 0.8889\n",
      "Epoch 90/100\n",
      "3/3 [==============================] - 0s 7ms/step - loss: 1.0466 - accuracy: 0.9216 - val_loss: 1.0959 - val_accuracy: 0.8889\n",
      "Epoch 91/100\n",
      "3/3 [==============================] - 0s 8ms/step - loss: 1.1059 - accuracy: 0.8922 - val_loss: 1.0866 - val_accuracy: 0.8889\n",
      "Epoch 92/100\n",
      "3/3 [==============================] - 0s 8ms/step - loss: 1.0976 - accuracy: 0.8922 - val_loss: 1.0826 - val_accuracy: 0.8889\n",
      "Epoch 93/100\n",
      "3/3 [==============================] - 0s 7ms/step - loss: 1.0815 - accuracy: 0.8922 - val_loss: 1.0784 - val_accuracy: 0.8889\n",
      "Epoch 94/100\n",
      "3/3 [==============================] - 0s 8ms/step - loss: 1.1032 - accuracy: 0.8333 - val_loss: 1.0798 - val_accuracy: 0.8889\n",
      "Epoch 95/100\n",
      "3/3 [==============================] - 0s 9ms/step - loss: 1.0806 - accuracy: 0.8627 - val_loss: 1.0749 - val_accuracy: 0.8889\n",
      "Epoch 96/100\n",
      "3/3 [==============================] - 0s 7ms/step - loss: 1.0487 - accuracy: 0.8922 - val_loss: 1.0698 - val_accuracy: 0.8889\n",
      "Epoch 97/100\n",
      "3/3 [==============================] - 0s 8ms/step - loss: 1.0534 - accuracy: 0.8725 - val_loss: 1.0689 - val_accuracy: 0.8889\n",
      "Epoch 98/100\n",
      "3/3 [==============================] - 0s 8ms/step - loss: 1.0293 - accuracy: 0.9020 - val_loss: 1.0646 - val_accuracy: 0.8889\n",
      "Epoch 99/100\n",
      "3/3 [==============================] - 0s 7ms/step - loss: 1.0306 - accuracy: 0.9118 - val_loss: 1.0576 - val_accuracy: 0.8889\n",
      "Epoch 100/100\n",
      "3/3 [==============================] - 0s 8ms/step - loss: 1.0672 - accuracy: 0.8922 - val_loss: 1.0543 - val_accuracy: 0.8889\n"
     ]
    }
   ],
   "source": [
    "# Train the model\n",
    "reg_history = train_model(reg_model, train_data, train_targets, epochs=800)"
   ]
  },
  {
   "cell_type": "markdown",
   "metadata": {
    "id": "gccWcGCz-QO8"
   },
   "source": [
    "#### Plot the learning curves\n",
    "\n",
    "Let's now plot the loss and accuracy for the training and validation sets."
   ]
  },
  {
   "cell_type": "code",
   "execution_count": 47,
   "metadata": {
    "colab": {
     "base_uri": "https://localhost:8080/",
     "height": 295
    },
    "executionInfo": {
     "elapsed": 2685,
     "status": "ok",
     "timestamp": 1601222876357,
     "user": {
      "displayName": "Halil Uysal",
      "photoUrl": "",
      "userId": "03813492140216734474"
     },
     "user_tz": 240
    },
    "id": "j8uieP3K-QO9",
    "outputId": "5b2ea0d7-6951-4e38-f101-04d61bed337e"
   },
   "outputs": [
    {
     "data": {
      "image/png": "[encoded data removed]",
      "text/plain": [
       "<Figure size 432x288 with 1 Axes>"
      ]
     },
     "metadata": {
      "needs_background": "light",
      "tags": []
     },
     "output_type": "display_data"
    }
   ],
   "source": [
    "#Run this cell to plot the new accuracy vs epoch graph\n",
    "\n",
    "try:\n",
    "    plt.plot(reg_history.history['accuracy'])\n",
    "    plt.plot(reg_history.history['val_accuracy'])\n",
    "except KeyError:\n",
    "    plt.plot(reg_history.history['acc'])\n",
    "    plt.plot(reg_history.history['val_acc'])\n",
    "plt.title('Accuracy vs. epochs')\n",
    "plt.ylabel('Loss')\n",
    "plt.xlabel('Epoch')\n",
    "plt.legend(['Training', 'Validation'], loc='lower right')\n",
    "plt.show() "
   ]
  },
  {
   "cell_type": "code",
   "execution_count": 36,
   "metadata": {
    "colab": {
     "base_uri": "https://localhost:8080/",
     "height": 295
    },
    "executionInfo": {
     "elapsed": 3590,
     "status": "ok",
     "timestamp": 1601222721096,
     "user": {
      "displayName": "Halil Uysal",
      "photoUrl": "",
      "userId": "03813492140216734474"
     },
     "user_tz": 240
    },
    "id": "zpgy4mVP-QO_",
    "outputId": "17f25cda-87e3-4f54-d38e-49259f84fb82"
   },
   "outputs": [
    {
     "data": {
      "image/png": "[encoded data removed]",
      "text/plain": [
       "<Figure size 432x288 with 1 Axes>"
      ]
     },
     "metadata": {
      "needs_background": "light",
      "tags": []
     },
     "output_type": "display_data"
    }
   ],
   "source": [
    "#Run this cell to plot the new loss vs epoch graph\n",
    "\n",
    "plt.plot(reg_history.history['loss'])\n",
    "plt.plot(reg_history.history['val_loss'])\n",
    "plt.title('Loss vs. epochs')\n",
    "plt.ylabel('Loss')\n",
    "plt.xlabel('Epoch')\n",
    "plt.legend(['Training', 'Validation'], loc='upper right')\n",
    "plt.show() "
   ]
  },
  {
   "cell_type": "markdown",
   "metadata": {
    "id": "na0xiTpm-QPB"
   },
   "source": [
    "We can see that the regularisation has helped to reduce the overfitting of the network.\n",
    "You will now incorporate callbacks into a new training run that implements early stopping and learning rate reduction on plateaux.\n",
    "\n",
    "Fill in the function below so that:\n",
    "\n",
    "* It creates an `EarlyStopping` callback object and a `ReduceLROnPlateau` callback object\n",
    "* The early stopping callback is used and monitors validation loss with the mode set to `\"min\"` and patience of 30.\n",
    "* The learning rate reduction on plateaux is used with a learning rate factor of 0.2 and a patience of 20."
   ]
  },
  {
   "cell_type": "code",
   "execution_count": 37,
   "metadata": {
    "executionInfo": {
     "elapsed": 1847,
     "status": "ok",
     "timestamp": 1601222721096,
     "user": {
      "displayName": "Halil Uysal",
      "photoUrl": "",
      "userId": "03813492140216734474"
     },
     "user_tz": 240
    },
    "id": "18JaoKcd-QPC"
   },
   "outputs": [],
   "source": [
    "#### GRADED CELL ####\n",
    "\n",
    "# Complete the following function. \n",
    "# Make sure to not change the function name or arguments.\n",
    "\n",
    "def get_callbacks():\n",
    "    \"\"\"\n",
    "    This function should create and return a tuple (early_stopping, learning_rate_reduction) callbacks.\n",
    "    The callbacks should be instantiated according to the above requirements.\n",
    "    \"\"\"\n",
    "    early_stopping = tf.keras.callbacks.EarlyStopping(patience=30, monitor='val_loss', mode='min')\n",
    "    learning_rate_reduction = tf.keras.callbacks.ReduceLROnPlateau(patience=20, factor=0.2)\n",
    "    return (early_stopping, learning_rate_reduction)"
   ]
  },
  {
   "cell_type": "markdown",
   "metadata": {
    "id": "eqi6pF-v-QPD"
   },
   "source": [
    "Run the cell below to instantiate and train the regularised model with the callbacks."
   ]
  },
  {
   "cell_type": "code",
   "execution_count": 38,
   "metadata": {
    "executionInfo": {
     "elapsed": 5896,
     "status": "ok",
     "timestamp": 1601222726546,
     "user": {
      "displayName": "Halil Uysal",
      "photoUrl": "",
      "userId": "03813492140216734474"
     },
     "user_tz": 240
    },
    "id": "emW-CYSd-QPE"
   },
   "outputs": [],
   "source": [
    "call_model = get_regularised_model(train_data[0].shape, 0.3, 0.0001)\n",
    "compile_model(call_model)\n",
    "early_stopping, learning_rate_reduction = get_callbacks()\n",
    "call_history = call_model.fit(train_data, train_targets, epochs=800, validation_split=0.15,\n",
    "                         callbacks=[early_stopping, learning_rate_reduction], verbose=0)"
   ]
  },
  {
   "cell_type": "code",
   "execution_count": 39,
   "metadata": {
    "colab": {
     "base_uri": "https://localhost:8080/",
     "height": 36
    },
    "executionInfo": {
     "elapsed": 5593,
     "status": "ok",
     "timestamp": 1601222726547,
     "user": {
      "displayName": "Halil Uysal",
      "photoUrl": "",
      "userId": "03813492140216734474"
     },
     "user_tz": 240
    },
    "id": "DtuDazML-QPG",
    "outputId": "6a114f7a-b5ee-4c43-b803-d55dbef9e959"
   },
   "outputs": [
    {
     "data": {
      "text/plain": [
       "20"
      ]
     },
     "execution_count": 39,
     "metadata": {
      "tags": []
     },
     "output_type": "execute_result"
    }
   ],
   "source": [
    "learning_rate_reduction.patience"
   ]
  },
  {
   "cell_type": "markdown",
   "metadata": {
    "id": "8zhsqvtL-QPJ"
   },
   "source": [
    "Finally, let's replot the accuracy and loss graphs for our new model."
   ]
  },
  {
   "cell_type": "code",
   "execution_count": 40,
   "metadata": {
    "colab": {
     "base_uri": "https://localhost:8080/",
     "height": 295
    },
    "executionInfo": {
     "elapsed": 4865,
     "status": "ok",
     "timestamp": 1601222726547,
     "user": {
      "displayName": "Halil Uysal",
      "photoUrl": "",
      "userId": "03813492140216734474"
     },
     "user_tz": 240
    },
    "id": "HOPSJT7w-QPJ",
    "outputId": "d47afe0d-d9e7-49f3-89cc-e74e8d492645"
   },
   "outputs": [
    {
     "data": {
      "image/png": "[encoded data removed]",
      "text/plain": [
       "<Figure size 432x288 with 1 Axes>"
      ]
     },
     "metadata": {
      "needs_background": "light",
      "tags": []
     },
     "output_type": "display_data"
    }
   ],
   "source": [
    "try:\n",
    "    plt.plot(call_history.history['accuracy'])\n",
    "    plt.plot(call_history.history['val_accuracy'])\n",
    "except KeyError:\n",
    "    plt.plot(call_history.history['acc'])\n",
    "    plt.plot(call_history.history['val_acc'])\n",
    "plt.title('Accuracy vs. epochs')\n",
    "plt.ylabel('Accuracy')\n",
    "plt.xlabel('Epoch')\n",
    "plt.legend(['Training', 'Validation'], loc='lower right')\n",
    "plt.show() "
   ]
  },
  {
   "cell_type": "code",
   "execution_count": 41,
   "metadata": {
    "colab": {
     "base_uri": "https://localhost:8080/",
     "height": 295
    },
    "executionInfo": {
     "elapsed": 4956,
     "status": "ok",
     "timestamp": 1601222727044,
     "user": {
      "displayName": "Halil Uysal",
      "photoUrl": "",
      "userId": "03813492140216734474"
     },
     "user_tz": 240
    },
    "id": "1w5NOgER-QPL",
    "outputId": "5d3f6b60-2374-40a7-8b81-8915566612ef"
   },
   "outputs": [
    {
     "data": {
      "image/png": "[encoded data removed]",
      "text/plain": [
       "<Figure size 432x288 with 1 Axes>"
      ]
     },
     "metadata": {
      "needs_background": "light",
      "tags": []
     },
     "output_type": "display_data"
    }
   ],
   "source": [
    "plt.plot(call_history.history['loss'])\n",
    "plt.plot(call_history.history['val_loss'])\n",
    "plt.title('Loss vs. epochs')\n",
    "plt.ylabel('Loss')\n",
    "plt.xlabel('Epoch')\n",
    "plt.legend(['Training', 'Validation'], loc='upper right')\n",
    "plt.show() "
   ]
  },
  {
   "cell_type": "code",
   "execution_count": 42,
   "metadata": {
    "colab": {
     "base_uri": "https://localhost:8080/",
     "height": 55
    },
    "executionInfo": {
     "elapsed": 4477,
     "status": "ok",
     "timestamp": 1601222727045,
     "user": {
      "displayName": "Halil Uysal",
      "photoUrl": "",
      "userId": "03813492140216734474"
     },
     "user_tz": 240
    },
    "id": "AsBmI_qM5CYh",
    "outputId": "c21b56b4-c409-43ef-8d99-7ec20d40d13b"
   },
   "outputs": [
    {
     "name": "stdout",
     "output_type": "stream",
     "text": [
      "Test loss: 0.295\n",
      "Test accuracy: 90.00%\n"
     ]
    }
   ],
   "source": [
    "# Evaluate the model on the test set\n",
    "\n",
    "test_loss, test_acc = call_model.evaluate(test_data, test_targets, verbose=0)\n",
    "print(\"Test loss: {:.3f}\\nTest accuracy: {:.2f}%\".format(test_loss, 100 * test_acc))"
   ]
  },
  {
   "cell_type": "markdown",
   "metadata": {
    "id": "zqBMocM0-QPM"
   },
   "source": [
    "Congratulations for completing this programming assignment! In the next week of the course we will learn how to save and load pre-trained models."
   ]
  },
  {
   "cell_type": "code",
   "execution_count": 42,
   "metadata": {
    "executionInfo": {
     "elapsed": 3604,
     "status": "ok",
     "timestamp": 1601222727045,
     "user": {
      "displayName": "Halil Uysal",
      "photoUrl": "",
      "userId": "03813492140216734474"
     },
     "user_tz": 240
    },
    "id": "0BeZ-Z4PT8Xf"
   },
   "outputs": [],
   "source": []
  }
 ],
 "metadata": {
  "colab": {
   "collapsed_sections": [],
   "name": "Week 3 Programming Assignment.ipynb",
   "provenance": [
    {
     "file_id": "1AxFF3kjLi9fp1TP_kKDGUNKjqUCIYXW8",
     "timestamp": 1600821308971
    }
   ]
  },
  "coursera": {
   "course_slug": "tensor-flow-2-1",
   "graded_item_id": "mtZ4n",
   "launcher_item_id": "WphgK"
  },
  "kernelspec": {
   "display_name": "Python 3",
   "language": "python",
   "name": "python3"
  },
  "language_info": {
   "codemirror_mode": {
    "name": "ipython",
    "version": 3
   },
   "file_extension": ".py",
   "mimetype": "text/x-python",
   "name": "python",
   "nbconvert_exporter": "python",
   "pygments_lexer": "ipython3",
   "version": "3.6.12"
  }
 },
 "nbformat": 4,
 "nbformat_minor": 1
}
